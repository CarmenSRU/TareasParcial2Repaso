{
 "cells": [
  {
   "cell_type": "markdown",
   "id": "574decb7",
   "metadata": {},
   "source": [
    "#### Crear un sistema que almacene equipos biomédicos , cada equipo tiene información de nombre, marca, ubicación, fecha de calibración ,fecha de mmto ,nombre del proveedor. Para ello implementarlo a partir de un dataframe con la información anterior"
   ]
  },
  {
   "cell_type": "code",
   "execution_count": 2,
   "id": "17438894",
   "metadata": {},
   "outputs": [],
   "source": [
    "import numpy as np\n",
    "import matplotlib.pyplot as plt\n",
    "import pandas as pd"
   ]
  },
  {
   "cell_type": "code",
   "execution_count": 4,
   "id": "43c4a472",
   "metadata": {},
   "outputs": [
    {
     "data": {
      "text/html": [
       "<div>\n",
       "<style scoped>\n",
       "    .dataframe tbody tr th:only-of-type {\n",
       "        vertical-align: middle;\n",
       "    }\n",
       "\n",
       "    .dataframe tbody tr th {\n",
       "        vertical-align: top;\n",
       "    }\n",
       "\n",
       "    .dataframe thead th {\n",
       "        text-align: right;\n",
       "    }\n",
       "</style>\n",
       "<table border=\"1\" class=\"dataframe\">\n",
       "  <thead>\n",
       "    <tr style=\"text-align: right;\">\n",
       "      <th></th>\n",
       "      <th>Nombre</th>\n",
       "      <th>Marca</th>\n",
       "      <th>Ubicación</th>\n",
       "      <th>Fecha de calibración</th>\n",
       "      <th>Fecha de mantenimiento</th>\n",
       "      <th>Proveedor</th>\n",
       "    </tr>\n",
       "  </thead>\n",
       "  <tbody>\n",
       "  </tbody>\n",
       "</table>\n",
       "</div>"
      ],
      "text/plain": [
       "Empty DataFrame\n",
       "Columns: [Nombre, Marca, Ubicación, Fecha de calibración, Fecha de mantenimiento, Proveedor]\n",
       "Index: []"
      ]
     },
     "execution_count": 4,
     "metadata": {},
     "output_type": "execute_result"
    }
   ],
   "source": [
    "#Dataframe\n",
    "columnas = {\"Nombre\": pd.Series([], index=[]),\n",
    "    \"Marca\": pd.Series([], index=[]),\n",
    "    \"Ubicación\": pd.Series([], index=[]),\n",
    "    \"Fecha de calibración\": pd.Series([], index=[]),\n",
    "    \"Fecha de mantenimiento\": pd.Series([], index=[]),\n",
    "    \"Proveedor\": pd.Series([], index=[])}\n",
    "\n",
    "\n",
    "equiposDF = pd.DataFrame(columns=columnas)\n",
    "equiposDF"
   ]
  }
 ],
 "metadata": {
  "kernelspec": {
   "display_name": "base",
   "language": "python",
   "name": "python3"
  },
  "language_info": {
   "codemirror_mode": {
    "name": "ipython",
    "version": 3
   },
   "file_extension": ".py",
   "mimetype": "text/x-python",
   "name": "python",
   "nbconvert_exporter": "python",
   "pygments_lexer": "ipython3",
   "version": "3.12.7"
  }
 },
 "nbformat": 4,
 "nbformat_minor": 5
}
