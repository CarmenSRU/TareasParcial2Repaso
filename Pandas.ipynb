{
 "cells": [
  {
   "cell_type": "markdown",
   "id": "574decb7",
   "metadata": {},
   "source": [
    "#### Crear un sistema que almacene equipos biomédicos , cada equipo tiene información de nombre, marca, ubicación, fecha de calibración ,fecha de mmto ,nombre del proveedor. Para ello implementarlo a partir de un dataframe con la información anterior"
   ]
  },
  {
   "cell_type": "code",
   "execution_count": 2,
   "id": "17438894",
   "metadata": {},
   "outputs": [],
   "source": [
    "import numpy as np\n",
    "import matplotlib.pyplot as plt\n",
    "import pandas as pd"
   ]
  },
  {
   "cell_type": "code",
   "execution_count": 3,
   "id": "43c4a472",
   "metadata": {},
   "outputs": [
    {
     "name": "stdout",
     "output_type": "stream",
     "text": [
      "  Nombre Marca Ubicación Fecha de calibración Fecha de mantenimiento Proveedor\n",
      "1   lala     q      aqui                   si                     no       yto\n"
     ]
    }
   ],
   "source": [
    "#Dataframe\n",
    "columnas = {\"Nombre\": pd.Series([], index=[]),\n",
    "    \"Marca\": pd.Series([], index=[]),\n",
    "    \"Ubicación\": pd.Series([], index=[]),\n",
    "    \"Fecha de calibración\": pd.Series([], index=[]),\n",
    "    \"Fecha de mantenimiento\": pd.Series([], index=[]),\n",
    "    \"Proveedor\": pd.Series([], index=[])}\n",
    "\n",
    "\n",
    "equiposDF = pd.DataFrame(columns=columnas)\n",
    "\n",
    "class Registro:\n",
    "    def __init__(self):\n",
    "        self.__id = \"\"\n",
    "        self.__nombre = \"\"\n",
    "        self.__marca = \"\"\n",
    "        self.__ubi = \"\"\n",
    "        self.__cal = \"\"\n",
    "        self.__man = \"\"\n",
    "        self.__pro = \"\"\n",
    "\n",
    "    def verID(self):\n",
    "        return self.__id\n",
    "    def verNombre(self):\n",
    "        return self.__nombre\n",
    "    def verMarca(self):\n",
    "        return self.__marca\n",
    "    def verUbi(self):\n",
    "        return self.__ubi\n",
    "    def verCal(self):\n",
    "        return self.__cal\n",
    "    def verMan(self):\n",
    "        return self.__man\n",
    "    def verPro(self):\n",
    "        return self.__pro\n",
    "    \n",
    "    def añadirID(self,id):\n",
    "        self.__id = id\n",
    "    def añadirNombre(self,nombre):\n",
    "        self.__nombre = nombre\n",
    "    def añadirMarca(self,marca):\n",
    "        self.__marca = marca\n",
    "    def añadirUbi(self,ubi):\n",
    "        self.__ubi = ubi\n",
    "    def añadirCal(self,cal):\n",
    "        self.__cal = cal\n",
    "    def añadirMan(self,man):\n",
    "        self.__man = man\n",
    "    def añadirPro(self,pro):\n",
    "        self.__pro = pro\n",
    "\n",
    "    def añadirDF(self, id,nombre,marca,ubi,cal,man,pro):\n",
    "        equiposDF[\"Nombre\"]=pd.Series([nombre], index=[id])\n",
    "        equiposDF[\"Marca\"]=pd.Series([marca], index=[id])\n",
    "        equiposDF[\"Ubicación\"]=pd.Series([ubi], index=[id])\n",
    "        equiposDF[\"Fecha de calibración\"]=pd.Series([cal], index=[id])\n",
    "        equiposDF[\"Fecha de mantenimiento\"]=pd.Series([man], index=[id])\n",
    "        equiposDF[\"Fecha de calibración\"]=pd.Series([cal], index=[id])\n",
    "        equiposDF[\"Proveedor\"]=pd.Series([pro], index=[id])\n",
    "\n",
    "while True:\n",
    "    op = input('''\n",
    "1. Añadir nuevo registro\n",
    "2. Eliminar registro\n",
    "3. Modificar registro\n",
    "4. Ver todos los registros\n",
    "5. Salir\n",
    "               >''')\n",
    "    if op == \"1\":\n",
    "        id = input(\"ID: \")\n",
    "        nombre = input(\"Nombre: \")\n",
    "        marca = input(\"Marca: \")\n",
    "        ubi = input(\"Ubicación: \")\n",
    "        cal = input(\"Fecha de calibración: \")\n",
    "        man = input(\"Fecha de mantenimiento: \")\n",
    "        pro = input(\"Proveedor: \")\n",
    "        reg = Registro()\n",
    "        reg.añadirID(id)\n",
    "        reg.añadirNombre(nombre)\n",
    "        reg.añadirMarca(marca)\n",
    "        reg.añadirUbi(ubi)\n",
    "        reg.añadirCal(cal)\n",
    "        reg.añadirMan(man)\n",
    "        reg.añadirPro(pro)\n",
    "        reg.añadirDF(id,nombre,marca,ubi,cal,man,pro)\n",
    "    if op == \"4\":\n",
    "        print(equiposDF)\n",
    "    if op == \"5\":\n",
    "        break"
   ]
  }
 ],
 "metadata": {
  "kernelspec": {
   "display_name": "base",
   "language": "python",
   "name": "python3"
  },
  "language_info": {
   "codemirror_mode": {
    "name": "ipython",
    "version": 3
   },
   "file_extension": ".py",
   "mimetype": "text/x-python",
   "name": "python",
   "nbconvert_exporter": "python",
   "pygments_lexer": "ipython3",
   "version": "3.12.7"
  }
 },
 "nbformat": 4,
 "nbformat_minor": 5
}
