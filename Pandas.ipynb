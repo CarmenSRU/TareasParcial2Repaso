{
 "cells": [
  {
   "cell_type": "markdown",
   "id": "574decb7",
   "metadata": {},
   "source": [
    "#### Crear un sistema que almacene equipos biomédicos , cada equipo tiene información de nombre, marca, ubicación, fecha de calibración ,fecha de mmto ,nombre del proveedor. Para ello implementarlo a partir de un dataframe con la información anterior"
   ]
  },
  {
   "cell_type": "code",
   "execution_count": null,
   "id": "17438894",
   "metadata": {},
   "outputs": [],
   "source": [
    "import numpy as np\n",
    "import matplotlib.pyplot as plt\n",
    "import pandas as pd"
   ]
  },
  {
   "cell_type": "code",
   "execution_count": null,
   "id": "43c4a472",
   "metadata": {},
   "outputs": [],
   "source": [
    "#Dataframe\n",
    "columnas = [\n",
    "    'Nombre',\n",
    "    'Marca',\n",
    "    'Ubicación',\n",
    "    'Fecha de calibración',\n",
    "    'Fecha de mantenimiento',\n",
    "    'Proveedor'\n",
    "]\n",
    "\n",
    "equiposDF = pd.DataFrame(columns=columnas)\n",
    "\n",
    "# Ejemplo: agregar un equipo al sistema\n",
    "nuevo_equipo = {\n",
    "    'Nombre del equipo': 'Electrocardiógrafo',\n",
    "    'Marca': 'GE Healthcare',\n",
    "    'Ubicación': 'Sala 1',\n",
    "    'Fecha de calibración': '2024-10-01',\n",
    "    'Fecha de mantenimiento': '2024-12-15',\n",
    "    'Proveedor': 'Meditek Perú'\n",
    "}\n",
    "\n",
    "# Agregar al DataFrame\n",
    "equipos_df = pd.concat([equipos_df, pd.DataFrame([nuevo_equipo])], ignore_index=True)\n",
    "\n",
    "# Mostrar DataFrame\n",
    "print(equipos_df)\n"
   ]
  }
 ],
 "metadata": {
  "kernelspec": {
   "display_name": "base",
   "language": "python",
   "name": "python3"
  },
  "language_info": {
   "name": "python",
   "version": "3.12.7"
  }
 },
 "nbformat": 4,
 "nbformat_minor": 5
}
