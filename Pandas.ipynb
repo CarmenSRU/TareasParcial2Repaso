{
 "cells": [
  {
   "cell_type": "markdown",
   "id": "574decb7",
   "metadata": {},
   "source": [
    "#### Crear un sistema que almacene equipos biomédicos , cada equipo tiene información de nombre, marca, ubicación, fecha de calibración ,fecha de mmto ,nombre del proveedor. Para ello implementarlo a partir de un dataframe con la información anterior"
   ]
  },
  {
   "cell_type": "code",
   "execution_count": 2,
   "id": "17438894",
   "metadata": {},
   "outputs": [],
   "source": [
    "import numpy as np\n",
    "import matplotlib.pyplot as plt\n",
    "import pandas as pd"
   ]
  },
  {
   "cell_type": "code",
   "execution_count": 3,
   "id": "43c4a472",
   "metadata": {},
   "outputs": [
    {
     "name": "stdout",
     "output_type": "stream",
     "text": [
      "  Nombre Marca Ubicación Fecha de calibración Fecha de mantenimiento Proveedor\n",
      "1   lala     q      aqui                   si                     no       yto\n"
     ]
    }
   ],
   "source": [
    "#Dataframe\n",
    "columnas = {\"Nombre\": pd.Series([], index=[]),\n",
    "    \"Marca\": pd.Series([], index=[]),\n",
    "    \"Ubicación\": pd.Series([], index=[]),\n",
    "    \"Fecha de calibración\": pd.Series([], index=[]),\n",
    "    \"Fecha de mantenimiento\": pd.Series([], index=[]),\n",
    "    \"Proveedor\": pd.Series([], index=[])}\n",
    "\n",
    "\n",
    "equiposDF = pd.DataFrame(columns=columnas)\n",
    "\n",
    "class Registro:\n",
    "    def __init__(self):\n",
    "        self.__id = \"\"\n",
    "        self.__nombre = \"\"\n",
    "        self.__marca = \"\"\n",
    "        self.__ubi = \"\"\n",
    "        self.__cal = \"\"\n",
    "        self.__man = \"\"\n",
    "        self.__pro = \"\"\n",
    "\n",
    "    def verID(self):\n",
    "        return self.__id\n",
    "    def verNombre(self):\n",
    "        return self.__nombre\n",
    "    def verMarca(self):\n",
    "        return self.__marca\n",
    "    def verUbi(self):\n",
    "        return self.__ubi\n",
    "    def verCal(self):\n",
    "        return self.__cal\n",
    "    def verMan(self):\n",
    "        return self.__man\n",
    "    def verPro(self):\n",
    "        return self.__pro\n",
    "    \n",
    "    def añadirID(self,id):\n",
    "        self.__id = id\n",
    "    def añadirNombre(self,nombre):\n",
    "        self.__nombre = nombre\n",
    "    def añadirMarca(self,marca):\n",
    "        self.__marca = marca\n",
    "    def añadirUbi(self,ubi):\n",
    "        self.__ubi = ubi\n",
    "    def añadirCal(self,cal):\n",
    "        self.__cal = cal\n",
    "    def añadirMan(self,man):\n",
    "        self.__man = man\n",
    "    def añadirPro(self,pro):\n",
    "        self.__pro = pro\n",
    "\n",
    "    def añadirDF(self, id,nombre,marca,ubi,cal,man,pro):\n",
    "        equiposDF[\"Nombre\"]=pd.Series([nombre], index=[id])\n",
    "        equiposDF[\"Marca\"]=pd.Series([marca], index=[id])\n",
    "        equiposDF[\"Ubicación\"]=pd.Series([ubi], index=[id])\n",
    "        equiposDF[\"Fecha de calibración\"]=pd.Series([cal], index=[id])\n",
    "        equiposDF[\"Fecha de mantenimiento\"]=pd.Series([man], index=[id])\n",
    "        equiposDF[\"Fecha de calibración\"]=pd.Series([cal], index=[id])\n",
    "        equiposDF[\"Proveedor\"]=pd.Series([pro], index=[id])\n",
    "\n",
    "while True:\n",
    "    op = input('''\n",
    "1. Añadir nuevo registro\n",
    "2. Eliminar registro\n",
    "3. Modificar registro\n",
    "4. Ver todos los registros\n",
    "5. Salir\n",
    "               >''')\n",
    "    if op == \"1\":\n",
    "        id = input(\"ID: \")\n",
    "        nombre = input(\"Nombre: \")\n",
    "        marca = input(\"Marca: \")\n",
    "        ubi = input(\"Ubicación: \")\n",
    "        cal = input(\"Fecha de calibración: \")\n",
    "        man = input(\"Fecha de mantenimiento: \")\n",
    "        pro = input(\"Proveedor: \")\n",
    "        reg = Registro()\n",
    "        reg.añadirID(id)\n",
    "        reg.añadirNombre(nombre)\n",
    "        reg.añadirMarca(marca)\n",
    "        reg.añadirUbi(ubi)\n",
    "        reg.añadirCal(cal)\n",
    "        reg.añadirMan(man)\n",
    "        reg.añadirPro(pro)\n",
    "        reg.añadirDF(id,nombre,marca,ubi,cal,man,pro)\n",
    "    if op == \"4\":\n",
    "        print(equiposDF)\n",
    "    if op == \"5\":\n",
    "        break"
   ]
  },
  {
   "cell_type": "markdown",
   "id": "73d5c4ca",
   "metadata": {},
   "source": [
    "#### De la siguiente pagina: https://www.kaggle.com/datasets/imdevskp/corona-virusreport?select=covid_19_clean_complete.csv\n",
    "#### Extraer el datasets de datos , leer y analizarlos , mirar como pueden ser agrupados y que información podría mostra según sus columnas, mirar promedio , desviación estándar,etc"
   ]
  },
  {
   "cell_type": "code",
   "execution_count": 5,
   "id": "0b455d6b",
   "metadata": {},
   "outputs": [],
   "source": [
    "df = pd.read_csv(\"archive/covid_19_clean_complete.csv\")"
   ]
  },
  {
   "cell_type": "code",
   "execution_count": 8,
   "id": "76971768",
   "metadata": {},
   "outputs": [
    {
     "name": "stdout",
     "output_type": "stream",
     "text": [
      "Forma (49068, 10)\n",
      "Tamaño 490680\n",
      "Dimensiones 2\n"
     ]
    }
   ],
   "source": [
    "print(f\"Forma {df.shape}\")\n",
    "print(f\"Tamaño {df.size}\")\n",
    "print(f\"Dimensiones {df.ndim}\")\n"
   ]
  },
  {
   "cell_type": "code",
   "execution_count": 10,
   "id": "2fe863d6",
   "metadata": {},
   "outputs": [
    {
     "data": {
      "text/html": [
       "<div>\n",
       "<style scoped>\n",
       "    .dataframe tbody tr th:only-of-type {\n",
       "        vertical-align: middle;\n",
       "    }\n",
       "\n",
       "    .dataframe tbody tr th {\n",
       "        vertical-align: top;\n",
       "    }\n",
       "\n",
       "    .dataframe thead th {\n",
       "        text-align: right;\n",
       "    }\n",
       "</style>\n",
       "<table border=\"1\" class=\"dataframe\">\n",
       "  <thead>\n",
       "    <tr style=\"text-align: right;\">\n",
       "      <th></th>\n",
       "      <th>Province/State</th>\n",
       "      <th>Country/Region</th>\n",
       "      <th>Lat</th>\n",
       "      <th>Long</th>\n",
       "      <th>Date</th>\n",
       "      <th>Confirmed</th>\n",
       "      <th>Deaths</th>\n",
       "      <th>Recovered</th>\n",
       "      <th>Active</th>\n",
       "      <th>WHO Region</th>\n",
       "    </tr>\n",
       "  </thead>\n",
       "  <tbody>\n",
       "    <tr>\n",
       "      <th>0</th>\n",
       "      <td>NaN</td>\n",
       "      <td>Afghanistan</td>\n",
       "      <td>33.93911</td>\n",
       "      <td>67.709953</td>\n",
       "      <td>2020-01-22</td>\n",
       "      <td>0</td>\n",
       "      <td>0</td>\n",
       "      <td>0</td>\n",
       "      <td>0</td>\n",
       "      <td>Eastern Mediterranean</td>\n",
       "    </tr>\n",
       "    <tr>\n",
       "      <th>1</th>\n",
       "      <td>NaN</td>\n",
       "      <td>Albania</td>\n",
       "      <td>41.15330</td>\n",
       "      <td>20.168300</td>\n",
       "      <td>2020-01-22</td>\n",
       "      <td>0</td>\n",
       "      <td>0</td>\n",
       "      <td>0</td>\n",
       "      <td>0</td>\n",
       "      <td>Europe</td>\n",
       "    </tr>\n",
       "    <tr>\n",
       "      <th>2</th>\n",
       "      <td>NaN</td>\n",
       "      <td>Algeria</td>\n",
       "      <td>28.03390</td>\n",
       "      <td>1.659600</td>\n",
       "      <td>2020-01-22</td>\n",
       "      <td>0</td>\n",
       "      <td>0</td>\n",
       "      <td>0</td>\n",
       "      <td>0</td>\n",
       "      <td>Africa</td>\n",
       "    </tr>\n",
       "    <tr>\n",
       "      <th>3</th>\n",
       "      <td>NaN</td>\n",
       "      <td>Andorra</td>\n",
       "      <td>42.50630</td>\n",
       "      <td>1.521800</td>\n",
       "      <td>2020-01-22</td>\n",
       "      <td>0</td>\n",
       "      <td>0</td>\n",
       "      <td>0</td>\n",
       "      <td>0</td>\n",
       "      <td>Europe</td>\n",
       "    </tr>\n",
       "    <tr>\n",
       "      <th>4</th>\n",
       "      <td>NaN</td>\n",
       "      <td>Angola</td>\n",
       "      <td>-11.20270</td>\n",
       "      <td>17.873900</td>\n",
       "      <td>2020-01-22</td>\n",
       "      <td>0</td>\n",
       "      <td>0</td>\n",
       "      <td>0</td>\n",
       "      <td>0</td>\n",
       "      <td>Africa</td>\n",
       "    </tr>\n",
       "  </tbody>\n",
       "</table>\n",
       "</div>"
      ],
      "text/plain": [
       "  Province/State Country/Region       Lat       Long        Date  Confirmed  \\\n",
       "0            NaN    Afghanistan  33.93911  67.709953  2020-01-22          0   \n",
       "1            NaN        Albania  41.15330  20.168300  2020-01-22          0   \n",
       "2            NaN        Algeria  28.03390   1.659600  2020-01-22          0   \n",
       "3            NaN        Andorra  42.50630   1.521800  2020-01-22          0   \n",
       "4            NaN         Angola -11.20270  17.873900  2020-01-22          0   \n",
       "\n",
       "   Deaths  Recovered  Active             WHO Region  \n",
       "0       0          0       0  Eastern Mediterranean  \n",
       "1       0          0       0                 Europe  \n",
       "2       0          0       0                 Africa  \n",
       "3       0          0       0                 Europe  \n",
       "4       0          0       0                 Africa  "
      ]
     },
     "execution_count": 10,
     "metadata": {},
     "output_type": "execute_result"
    }
   ],
   "source": [
    "df.head()"
   ]
  },
  {
   "cell_type": "code",
   "execution_count": 11,
   "id": "966ec39d",
   "metadata": {},
   "outputs": [
    {
     "name": "stdout",
     "output_type": "stream",
     "text": [
      "<class 'pandas.core.frame.DataFrame'>\n",
      "RangeIndex: 49068 entries, 0 to 49067\n",
      "Data columns (total 10 columns):\n",
      " #   Column          Non-Null Count  Dtype  \n",
      "---  ------          --------------  -----  \n",
      " 0   Province/State  14664 non-null  object \n",
      " 1   Country/Region  49068 non-null  object \n",
      " 2   Lat             49068 non-null  float64\n",
      " 3   Long            49068 non-null  float64\n",
      " 4   Date            49068 non-null  object \n",
      " 5   Confirmed       49068 non-null  int64  \n",
      " 6   Deaths          49068 non-null  int64  \n",
      " 7   Recovered       49068 non-null  int64  \n",
      " 8   Active          49068 non-null  int64  \n",
      " 9   WHO Region      49068 non-null  object \n",
      "dtypes: float64(2), int64(4), object(4)\n",
      "memory usage: 3.7+ MB\n"
     ]
    }
   ],
   "source": [
    "df.info()"
   ]
  },
  {
   "cell_type": "code",
   "execution_count": null,
   "id": "ea415de9",
   "metadata": {},
   "outputs": [
    {
     "data": {
      "text/html": [
       "<div>\n",
       "<style scoped>\n",
       "    .dataframe tbody tr th:only-of-type {\n",
       "        vertical-align: middle;\n",
       "    }\n",
       "\n",
       "    .dataframe tbody tr th {\n",
       "        vertical-align: top;\n",
       "    }\n",
       "\n",
       "    .dataframe thead th {\n",
       "        text-align: right;\n",
       "    }\n",
       "</style>\n",
       "<table border=\"1\" class=\"dataframe\">\n",
       "  <thead>\n",
       "    <tr style=\"text-align: right;\">\n",
       "      <th></th>\n",
       "      <th>Confirmed</th>\n",
       "      <th>Deaths</th>\n",
       "      <th>Recovered</th>\n",
       "    </tr>\n",
       "  </thead>\n",
       "  <tbody>\n",
       "    <tr>\n",
       "      <th>count</th>\n",
       "      <td>4.906800e+04</td>\n",
       "      <td>49068.000000</td>\n",
       "      <td>4.906800e+04</td>\n",
       "    </tr>\n",
       "    <tr>\n",
       "      <th>mean</th>\n",
       "      <td>1.688490e+04</td>\n",
       "      <td>884.179160</td>\n",
       "      <td>7.915713e+03</td>\n",
       "    </tr>\n",
       "    <tr>\n",
       "      <th>std</th>\n",
       "      <td>1.273002e+05</td>\n",
       "      <td>6313.584411</td>\n",
       "      <td>5.480092e+04</td>\n",
       "    </tr>\n",
       "    <tr>\n",
       "      <th>min</th>\n",
       "      <td>0.000000e+00</td>\n",
       "      <td>0.000000</td>\n",
       "      <td>0.000000e+00</td>\n",
       "    </tr>\n",
       "    <tr>\n",
       "      <th>25%</th>\n",
       "      <td>4.000000e+00</td>\n",
       "      <td>0.000000</td>\n",
       "      <td>0.000000e+00</td>\n",
       "    </tr>\n",
       "    <tr>\n",
       "      <th>50%</th>\n",
       "      <td>1.680000e+02</td>\n",
       "      <td>2.000000</td>\n",
       "      <td>2.900000e+01</td>\n",
       "    </tr>\n",
       "    <tr>\n",
       "      <th>75%</th>\n",
       "      <td>1.518250e+03</td>\n",
       "      <td>30.000000</td>\n",
       "      <td>6.660000e+02</td>\n",
       "    </tr>\n",
       "    <tr>\n",
       "      <th>max</th>\n",
       "      <td>4.290259e+06</td>\n",
       "      <td>148011.000000</td>\n",
       "      <td>1.846641e+06</td>\n",
       "    </tr>\n",
       "  </tbody>\n",
       "</table>\n",
       "</div>"
      ],
      "text/plain": [
       "          Confirmed         Deaths     Recovered\n",
       "count  4.906800e+04   49068.000000  4.906800e+04\n",
       "mean   1.688490e+04     884.179160  7.915713e+03\n",
       "std    1.273002e+05    6313.584411  5.480092e+04\n",
       "min    0.000000e+00       0.000000  0.000000e+00\n",
       "25%    4.000000e+00       0.000000  0.000000e+00\n",
       "50%    1.680000e+02       2.000000  2.900000e+01\n",
       "75%    1.518250e+03      30.000000  6.660000e+02\n",
       "max    4.290259e+06  148011.000000  1.846641e+06"
      ]
     },
     "execution_count": 20,
     "metadata": {},
     "output_type": "execute_result"
    }
   ],
   "source": [
    "df[['Confirmed', 'Deaths', 'Recovered']].describe()\n",
    "\n"
   ]
  },
  {
   "cell_type": "code",
   "execution_count": 21,
   "id": "5b286bbe",
   "metadata": {},
   "outputs": [
    {
     "data": {
      "text/html": [
       "<div>\n",
       "<style scoped>\n",
       "    .dataframe tbody tr th:only-of-type {\n",
       "        vertical-align: middle;\n",
       "    }\n",
       "\n",
       "    .dataframe tbody tr th {\n",
       "        vertical-align: top;\n",
       "    }\n",
       "\n",
       "    .dataframe thead tr th {\n",
       "        text-align: left;\n",
       "    }\n",
       "\n",
       "    .dataframe thead tr:last-of-type th {\n",
       "        text-align: right;\n",
       "    }\n",
       "</style>\n",
       "<table border=\"1\" class=\"dataframe\">\n",
       "  <thead>\n",
       "    <tr>\n",
       "      <th></th>\n",
       "      <th colspan=\"3\" halign=\"left\">Confirmed</th>\n",
       "      <th colspan=\"3\" halign=\"left\">Deaths</th>\n",
       "      <th colspan=\"3\" halign=\"left\">Recovered</th>\n",
       "    </tr>\n",
       "    <tr>\n",
       "      <th></th>\n",
       "      <th>mean</th>\n",
       "      <th>std</th>\n",
       "      <th>max</th>\n",
       "      <th>mean</th>\n",
       "      <th>std</th>\n",
       "      <th>max</th>\n",
       "      <th>mean</th>\n",
       "      <th>std</th>\n",
       "      <th>max</th>\n",
       "    </tr>\n",
       "    <tr>\n",
       "      <th>Country/Region</th>\n",
       "      <th></th>\n",
       "      <th></th>\n",
       "      <th></th>\n",
       "      <th></th>\n",
       "      <th></th>\n",
       "      <th></th>\n",
       "      <th></th>\n",
       "      <th></th>\n",
       "      <th></th>\n",
       "    </tr>\n",
       "  </thead>\n",
       "  <tbody>\n",
       "    <tr>\n",
       "      <th>Afghanistan</th>\n",
       "      <td>10299.946809</td>\n",
       "      <td>13458.792417</td>\n",
       "      <td>36263</td>\n",
       "      <td>261.159574</td>\n",
       "      <td>376.417160</td>\n",
       "      <td>1269</td>\n",
       "      <td>4245.957447</td>\n",
       "      <td>7723.942474</td>\n",
       "      <td>25198</td>\n",
       "    </tr>\n",
       "    <tr>\n",
       "      <th>Albania</th>\n",
       "      <td>1046.287234</td>\n",
       "      <td>1264.372255</td>\n",
       "      <td>4880</td>\n",
       "      <td>30.361702</td>\n",
       "      <td>33.482808</td>\n",
       "      <td>144</td>\n",
       "      <td>632.324468</td>\n",
       "      <td>732.715122</td>\n",
       "      <td>2745</td>\n",
       "    </tr>\n",
       "    <tr>\n",
       "      <th>Algeria</th>\n",
       "      <td>6275.292553</td>\n",
       "      <td>7339.328093</td>\n",
       "      <td>27973</td>\n",
       "      <td>414.744681</td>\n",
       "      <td>387.420178</td>\n",
       "      <td>1163</td>\n",
       "      <td>4020.728723</td>\n",
       "      <td>5186.080994</td>\n",
       "      <td>18837</td>\n",
       "    </tr>\n",
       "    <tr>\n",
       "      <th>Andorra</th>\n",
       "      <td>502.148936</td>\n",
       "      <td>371.460824</td>\n",
       "      <td>907</td>\n",
       "      <td>28.845745</td>\n",
       "      <td>23.277049</td>\n",
       "      <td>52</td>\n",
       "      <td>367.414894</td>\n",
       "      <td>349.769547</td>\n",
       "      <td>803</td>\n",
       "    </tr>\n",
       "    <tr>\n",
       "      <th>Angola</th>\n",
       "      <td>120.542553</td>\n",
       "      <td>214.148815</td>\n",
       "      <td>950</td>\n",
       "      <td>5.734043</td>\n",
       "      <td>9.326720</td>\n",
       "      <td>41</td>\n",
       "      <td>34.962766</td>\n",
       "      <td>59.577063</td>\n",
       "      <td>242</td>\n",
       "    </tr>\n",
       "  </tbody>\n",
       "</table>\n",
       "</div>"
      ],
      "text/plain": [
       "                   Confirmed                           Deaths              \\\n",
       "                        mean           std    max        mean         std   \n",
       "Country/Region                                                              \n",
       "Afghanistan     10299.946809  13458.792417  36263  261.159574  376.417160   \n",
       "Albania          1046.287234   1264.372255   4880   30.361702   33.482808   \n",
       "Algeria          6275.292553   7339.328093  27973  414.744681  387.420178   \n",
       "Andorra           502.148936    371.460824    907   28.845745   23.277049   \n",
       "Angola            120.542553    214.148815    950    5.734043    9.326720   \n",
       "\n",
       "                        Recovered                      \n",
       "                 max         mean          std    max  \n",
       "Country/Region                                         \n",
       "Afghanistan     1269  4245.957447  7723.942474  25198  \n",
       "Albania          144   632.324468   732.715122   2745  \n",
       "Algeria         1163  4020.728723  5186.080994  18837  \n",
       "Andorra           52   367.414894   349.769547    803  \n",
       "Angola            41    34.962766    59.577063    242  "
      ]
     },
     "execution_count": 21,
     "metadata": {},
     "output_type": "execute_result"
    }
   ],
   "source": [
    "country_stats = df.groupby('Country/Region')[['Confirmed', 'Deaths', 'Recovered']].agg(['mean', 'std', 'max'])\n",
    "country_stats.head()"
   ]
  },
  {
   "cell_type": "code",
   "execution_count": 26,
   "id": "87202578",
   "metadata": {},
   "outputs": [
    {
     "data": {
      "text/plain": [
       "0           0\n",
       "1           0\n",
       "2           0\n",
       "3           0\n",
       "4           0\n",
       "         ... \n",
       "49063     865\n",
       "49064    1691\n",
       "49065     354\n",
       "49066    7235\n",
       "49067     505\n",
       "Name: Confirmed, Length: 49068, dtype: int64"
      ]
     },
     "execution_count": 26,
     "metadata": {},
     "output_type": "execute_result"
    }
   ],
   "source": [
    "e = df['Confirmed']\n",
    "type(e)\n",
    "e"
   ]
  },
  {
   "cell_type": "code",
   "execution_count": 36,
   "id": "c8bbb488",
   "metadata": {},
   "outputs": [
    {
     "data": {
      "text/plain": [
       "[<matplotlib.lines.Line2D at 0x1510a4bdca0>]"
      ]
     },
     "execution_count": 36,
     "metadata": {},
     "output_type": "execute_result"
    },
    {
     "data": {
      "image/png": "[encoded data removed]",
      "text/plain": [
       "<Figure size 640x480 with 1 Axes>"
      ]
     },
     "metadata": {},
     "output_type": "display_data"
    }
   ],
   "source": [
    "plt.plot(df['Date'][:1500],df['Confirmed'][:1500])"
   ]
  },
  {
   "cell_type": "code",
   "execution_count": 38,
   "id": "fc8cd48b",
   "metadata": {},
   "outputs": [
    {
     "name": "stdout",
     "output_type": "stream",
     "text": [
      "     Country/Region  Confirmed  Deaths  Recovered\n",
      "173              US    4290259  148011    1325804\n",
      "23           Brazil    2442375   87618    1846641\n",
      "79            India    1480073   33408     951166\n",
      "138          Russia     816680   13334     602249\n",
      "154    South Africa     452529    7067     274925\n",
      "111          Mexico     395489   44022     303810\n",
      "132            Peru     389717   18418     272547\n",
      "35            Chile     347923    9187     319954\n",
      "177  United Kingdom     301708   45844       1437\n",
      "81             Iran     293606   15912     255144\n"
     ]
    }
   ],
   "source": [
    "latest_date = df['Date'].max()\n",
    "\n",
    "latest_data = df[df['Date'] == latest_date]\n",
    "\n",
    "country_latest = latest_data.groupby('Country/Region')[['Confirmed', 'Deaths', 'Recovered']].sum().reset_index()\n",
    "\n",
    "country_latest = country_latest.sort_values(by='Confirmed', ascending=False)\n",
    "\n",
    "print(country_latest.head(10))\n"
   ]
  },
  {
   "cell_type": "code",
   "execution_count": 39,
   "id": "391b6611",
   "metadata": {},
   "outputs": [
    {
     "data": {
      "image/png": "[encoded data removed]",
      "text/plain": [
       "<Figure size 1200x600 with 1 Axes>"
      ]
     },
     "metadata": {},
     "output_type": "display_data"
    }
   ],
   "source": [
    "global_trends = df.groupby('Date')[['Confirmed', 'Deaths', 'Recovered']].sum().reset_index()\n",
    "\n",
    "plt.figure(figsize=(12, 6))\n",
    "plt.plot(global_trends['Date'], global_trends['Confirmed'], label='Confirmados')\n",
    "plt.plot(global_trends['Date'], global_trends['Deaths'], label='Muertes')\n",
    "plt.plot(global_trends['Date'], global_trends['Recovered'], label='Recuperados')\n",
    "plt.xlabel('Fecha')\n",
    "plt.ylabel('Número de casos')\n",
    "plt.title('Evolución global de COVID-19')\n",
    "plt.legend()\n",
    "plt.grid(True)\n",
    "plt.show()\n"
   ]
  }
 ],
 "metadata": {
  "kernelspec": {
   "display_name": "base",
   "language": "python",
   "name": "python3"
  },
  "language_info": {
   "codemirror_mode": {
    "name": "ipython",
    "version": 3
   },
   "file_extension": ".py",
   "mimetype": "text/x-python",
   "name": "python",
   "nbconvert_exporter": "python",
   "pygments_lexer": "ipython3",
   "version": "3.12.7"
  }
 },
 "nbformat": 4,
 "nbformat_minor": 5
}
