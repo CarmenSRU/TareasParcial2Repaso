{
 "cells": [
  {
   "cell_type": "markdown",
   "id": "ff3058e0",
   "metadata": {},
   "source": [
    "### Ejercicios Clase 9\n",
    "#### 1. Crear una matriz de ceros de tipo entero 3x4"
   ]
  },
  {
   "cell_type": "code",
   "execution_count": 2,
   "id": "9f6a63bd",
   "metadata": {},
   "outputs": [],
   "source": [
    "import numpy as np"
   ]
  },
  {
   "cell_type": "code",
   "execution_count": 8,
   "id": "e78b4868",
   "metadata": {},
   "outputs": [
    {
     "name": "stdout",
     "output_type": "stream",
     "text": [
      "[[0 0 0 0]\n",
      " [0 0 0 0]\n",
      " [0 0 0 0]]\n"
     ]
    },
    {
     "data": {
      "text/plain": [
       "numpy.ndarray"
      ]
     },
     "execution_count": 8,
     "metadata": {},
     "output_type": "execute_result"
    }
   ],
   "source": [
    "matriz = np.zeros((3,4),int)\n",
    "print(matriz)\n",
    "type(matriz)"
   ]
  },
  {
   "cell_type": "markdown",
   "id": "f041ff8a",
   "metadata": {},
   "source": [
    "#### 2. Crear una matriz de ceros de tipo entero 3x4 excepto la primera fila que será uno\n"
   ]
  },
  {
   "cell_type": "code",
   "execution_count": 12,
   "id": "8c662d0b",
   "metadata": {},
   "outputs": [
    {
     "name": "stdout",
     "output_type": "stream",
     "text": [
      "[[1 1 1 1]\n",
      " [0 0 0 0]\n",
      " [0 0 0 0]]\n"
     ]
    }
   ],
   "source": [
    "matriz = np.zeros((3,4),int)\n",
    "unos = np.ones(4)\n",
    "matriz[0] = unos\n",
    "print(matriz)"
   ]
  },
  {
   "cell_type": "markdown",
   "id": "78a10693",
   "metadata": {},
   "source": [
    "#### 3. Crear una matriz de ceros de tipo entero 3x4 excepto la última fila que será el rango entre 5 y 8\n"
   ]
  },
  {
   "cell_type": "code",
   "execution_count": 22,
   "id": "a04b5a4b",
   "metadata": {},
   "outputs": [
    {
     "name": "stdout",
     "output_type": "stream",
     "text": [
      "[[0 0 0 0]\n",
      " [0 0 0 0]\n",
      " [5 6 7 8]]\n"
     ]
    }
   ],
   "source": [
    "matriz = np.zeros((2,4),int)\n",
    "rango = np.arange(5,9,dtype=int)\n",
    "matriz = np.vstack([matriz,rango])\n",
    "print(matriz)"
   ]
  },
  {
   "cell_type": "markdown",
   "id": "7d437a89",
   "metadata": {},
   "source": [
    "#### 4. Crea un vector de 10 elementos, siendo los índices impares unos y los índices pares dos\n"
   ]
  },
  {
   "cell_type": "code",
   "execution_count": 50,
   "id": "9b445b4e",
   "metadata": {},
   "outputs": [
    {
     "name": "stdout",
     "output_type": "stream",
     "text": [
      "[2 1 2 1 2 1 2 1 2 1]\n"
     ]
    }
   ],
   "source": [
    "#Forma 1\n",
    "vector = np.arange(0,10,dtype=int) \n",
    "vector[vector%2==0] = 2\n",
    "vector[vector%2==1] = 1\n",
    "print(vector)"
   ]
  },
  {
   "cell_type": "code",
   "execution_count": null,
   "id": "878a2a66",
   "metadata": {},
   "outputs": [
    {
     "name": "stdout",
     "output_type": "stream",
     "text": [
      "[2 1 2 1 2 1 2 1 2 1]\n"
     ]
    },
    {
     "data": {
      "text/plain": [
       "numpy.ndarray"
      ]
     },
     "execution_count": 47,
     "metadata": {},
     "output_type": "execute_result"
    }
   ],
   "source": [
    "#Forma 2\n",
    "vector = np.zeros(10, dtype=int)\n",
    "vector[::2] = 2  # Índices pares: 0, 2, 4, ...\n",
    "vector[1::2] = 1  # Índices impares: 1, 3, 5, ...\n",
    "print(vector)\n",
    "type(vector)\n"
   ]
  },
  {
   "cell_type": "markdown",
   "id": "a8d87db4",
   "metadata": {},
   "source": [
    "#### 5. Crea un «tablero de ajedrez», con unos en las casillas negras y ceros en las blancas\n"
   ]
  },
  {
   "cell_type": "code",
   "execution_count": null,
   "id": "cf702559",
   "metadata": {},
   "outputs": [
    {
     "name": "stdout",
     "output_type": "stream",
     "text": [
      "[[0 1 0 1 0 1 0 1]\n",
      " [1 0 1 0 1 0 1 0]\n",
      " [0 1 0 1 0 1 0 1]\n",
      " [1 0 1 0 1 0 1 0]\n",
      " [0 1 0 1 0 1 0 1]\n",
      " [1 0 1 0 1 0 1 0]\n",
      " [0 1 0 1 0 1 0 1]\n",
      " [1 0 1 0 1 0 1 0]]\n"
     ]
    }
   ],
   "source": [
    "#Forma 1\n",
    "fila = np.arange(8,dtype=int)\n",
    "fila[fila%2 == 1] = 1\n",
    "tablero = np.zeros((8,8),int)\n",
    "for i in range(8):\n",
    "    if i%2==0:\n",
    "        tablero[i] = fila\n",
    "    else:\n",
    "        tablero[i] = fila[::-1]\n",
    "tablero[tablero!=1] = 0\n",
    "\n",
    "print(tablero)\n"
   ]
  },
  {
   "cell_type": "code",
   "execution_count": 82,
   "id": "c861d949",
   "metadata": {},
   "outputs": [
    {
     "name": "stdout",
     "output_type": "stream",
     "text": [
      "[[0 1 0 1 0 1 0 1]\n",
      " [1 0 1 0 1 0 1 0]\n",
      " [0 1 0 1 0 1 0 1]\n",
      " [1 0 1 0 1 0 1 0]\n",
      " [0 1 0 1 0 1 0 1]\n",
      " [1 0 1 0 1 0 1 0]\n",
      " [0 1 0 1 0 1 0 1]\n",
      " [1 0 1 0 1 0 1 0]]\n"
     ]
    }
   ],
   "source": [
    "#Forma 2\n",
    "tablero = np.zeros((8, 8), dtype=int)\n",
    "tablero[1::2, ::2] = 1  # Filas impares, columnas pares\n",
    "tablero[::2, 1::2] = 1  # Filas pares, columnas impares\n",
    "\n",
    "print(tablero)"
   ]
  },
  {
   "cell_type": "markdown",
   "id": "ed3d674e",
   "metadata": {},
   "source": [
    "#### 6. Crea una matriz aleatoria 5x5 y halla los valores mínimo y máximo"
   ]
  },
  {
   "cell_type": "code",
   "execution_count": 102,
   "id": "fe6c3f40",
   "metadata": {},
   "outputs": [
    {
     "name": "stdout",
     "output_type": "stream",
     "text": [
      "[[10 15  5 52 66]\n",
      " [41 33 96 24 77]\n",
      " [65 79 43 95 96]\n",
      " [91 11 59 22 97]\n",
      " [68 47 65 88  1]]\n",
      "Máximo: 97\n",
      "Mínimo: 1\n"
     ]
    }
   ],
   "source": [
    "matrizAleatoria = np.random.randint(0,100,(5,5))\n",
    "maximo = np.max(matrizAleatoria)\n",
    "minimo = np.min(matrizAleatoria)\n",
    "print(matrizAleatoria)\n",
    "print(f\"Máximo: {maximo}\")\n",
    "print(f\"Mínimo: {minimo}\")"
   ]
  },
  {
   "cell_type": "markdown",
   "id": "b6a84583",
   "metadata": {},
   "source": [
    "#### 7. Normalizar la matriz anterior"
   ]
  },
  {
   "cell_type": "code",
   "execution_count": 129,
   "id": "35ab9bbb",
   "metadata": {},
   "outputs": [
    {
     "name": "stdout",
     "output_type": "stream",
     "text": [
      "6.5030445793797105\n",
      "[[0.19103346 0.13190406 0.07277465 0.09096831 0.09551673]\n",
      " [0.32748593 0.05003257 0.18648505 0.38661534 0.19558188]\n",
      " [0.30474385 0.32293752 0.1728398  0.09551673 0.11825881]\n",
      " [0.15464614 0.32748593 0.01364525 0.1728398  0.16374297]\n",
      " [0.30474385 0.02729049 0.20922712 0.12280722 0.02274208]]\n"
     ]
    }
   ],
   "source": [
    "magnitud = np.sum(np.power(matrizAleatoria,2))\n",
    "magnitud = np.power(magnitud,1/2)\n",
    "print(magnitud)\n",
    "matrizNormal = matrizAleatoria/magnitud\n",
    "print(matrizNormal)"
   ]
  }
 ],
 "metadata": {
  "kernelspec": {
   "display_name": "base",
   "language": "python",
   "name": "python3"
  },
  "language_info": {
   "codemirror_mode": {
    "name": "ipython",
    "version": 3
   },
   "file_extension": ".py",
   "mimetype": "text/x-python",
   "name": "python",
   "nbconvert_exporter": "python",
   "pygments_lexer": "ipython3",
   "version": "3.12.7"
  }
 },
 "nbformat": 4,
 "nbformat_minor": 5
}
