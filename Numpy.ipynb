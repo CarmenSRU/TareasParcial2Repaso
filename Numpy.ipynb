{
 "cells": [
  {
   "cell_type": "markdown",
   "id": "ff3058e0",
   "metadata": {},
   "source": [
    "### Ejercicios Clase 9\n",
    "#### Crear una matriz de ceros de tipo entero 3x4"
   ]
  },
  {
   "cell_type": "code",
   "execution_count": 2,
   "id": "9f6a63bd",
   "metadata": {},
   "outputs": [],
   "source": [
    "import numpy as np"
   ]
  },
  {
   "cell_type": "code",
   "execution_count": 8,
   "id": "e78b4868",
   "metadata": {},
   "outputs": [
    {
     "name": "stdout",
     "output_type": "stream",
     "text": [
      "[[0 0 0 0]\n",
      " [0 0 0 0]\n",
      " [0 0 0 0]]\n"
     ]
    },
    {
     "data": {
      "text/plain": [
       "numpy.ndarray"
      ]
     },
     "execution_count": 8,
     "metadata": {},
     "output_type": "execute_result"
    }
   ],
   "source": [
    "matriz = np.zeros((3,4),int)\n",
    "print(matriz)\n",
    "type(matriz)"
   ]
  },
  {
   "cell_type": "markdown",
   "id": "f041ff8a",
   "metadata": {},
   "source": [
    "#### Crear una matriz de ceros de tipo entero 3x4 excepto la primera fila que será uno\n"
   ]
  },
  {
   "cell_type": "code",
   "execution_count": null,
   "id": "8c662d0b",
   "metadata": {},
   "outputs": [
    {
     "ename": "SyntaxError",
     "evalue": "invalid syntax (150758373.py, line 3)",
     "output_type": "error",
     "traceback": [
      "\u001b[1;36m  Cell \u001b[1;32mIn[10], line 3\u001b[1;36m\u001b[0m\n\u001b[1;33m    matriz[0] =\u001b[0m\n\u001b[1;37m                ^\u001b[0m\n\u001b[1;31mSyntaxError\u001b[0m\u001b[1;31m:\u001b[0m invalid syntax\n"
     ]
    }
   ],
   "source": [
    "matriz = np.zeros((3,4),int)\n",
    "unos = np.ones(4)\n",
    "matriz[0] = uno"
   ]
  }
 ],
 "metadata": {
  "kernelspec": {
   "display_name": "base",
   "language": "python",
   "name": "python3"
  },
  "language_info": {
   "codemirror_mode": {
    "name": "ipython",
    "version": 3
   },
   "file_extension": ".py",
   "mimetype": "text/x-python",
   "name": "python",
   "nbconvert_exporter": "python",
   "pygments_lexer": "ipython3",
   "version": "3.12.7"
  }
 },
 "nbformat": 4,
 "nbformat_minor": 5
}
