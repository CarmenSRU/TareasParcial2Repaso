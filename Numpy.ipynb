{
 "cells": [
  {
   "cell_type": "markdown",
   "id": "ff3058e0",
   "metadata": {},
   "source": [
    "### Ejercicios Clase 9\n",
    "#### 1. Crear una matriz de ceros de tipo entero 3x4"
   ]
  },
  {
   "cell_type": "code",
   "execution_count": 2,
   "id": "9f6a63bd",
   "metadata": {},
   "outputs": [],
   "source": [
    "import numpy as np"
   ]
  },
  {
   "cell_type": "code",
   "execution_count": 8,
   "id": "e78b4868",
   "metadata": {},
   "outputs": [
    {
     "name": "stdout",
     "output_type": "stream",
     "text": [
      "[[0 0 0 0]\n",
      " [0 0 0 0]\n",
      " [0 0 0 0]]\n"
     ]
    },
    {
     "data": {
      "text/plain": [
       "numpy.ndarray"
      ]
     },
     "execution_count": 8,
     "metadata": {},
     "output_type": "execute_result"
    }
   ],
   "source": [
    "matriz = np.zeros((3,4),int)\n",
    "print(matriz)\n",
    "type(matriz)"
   ]
  },
  {
   "cell_type": "markdown",
   "id": "f041ff8a",
   "metadata": {},
   "source": [
    "#### 2. Crear una matriz de ceros de tipo entero 3x4 excepto la primera fila que será uno\n"
   ]
  },
  {
   "cell_type": "code",
   "execution_count": 12,
   "id": "8c662d0b",
   "metadata": {},
   "outputs": [
    {
     "name": "stdout",
     "output_type": "stream",
     "text": [
      "[[1 1 1 1]\n",
      " [0 0 0 0]\n",
      " [0 0 0 0]]\n"
     ]
    }
   ],
   "source": [
    "matriz = np.zeros((3,4),int)\n",
    "unos = np.ones(4)\n",
    "matriz[0] = unos\n",
    "print(matriz)"
   ]
  },
  {
   "cell_type": "markdown",
   "id": "78a10693",
   "metadata": {},
   "source": [
    "#### 3. Crear una matriz de ceros de tipo entero 3x4 excepto la última fila que será el rango entre 5 y 8\n"
   ]
  },
  {
   "cell_type": "code",
   "execution_count": 22,
   "id": "a04b5a4b",
   "metadata": {},
   "outputs": [
    {
     "name": "stdout",
     "output_type": "stream",
     "text": [
      "[[0 0 0 0]\n",
      " [0 0 0 0]\n",
      " [5 6 7 8]]\n"
     ]
    }
   ],
   "source": [
    "matriz = np.zeros((2,4),int)\n",
    "rango = np.arange(5,9,dtype=int)\n",
    "matriz = np.vstack([matriz,rango])\n",
    "print(matriz)"
   ]
  },
  {
   "cell_type": "markdown",
   "id": "7d437a89",
   "metadata": {},
   "source": [
    "#### 4. Crea un vector de 10 elementos, siendo los índices impares unos y los índices pares dos\n"
   ]
  },
  {
   "cell_type": "code",
   "execution_count": 45,
   "id": "9b445b4e",
   "metadata": {},
   "outputs": [
    {
     "data": {
      "text/plain": [
       "array([2, 1, 2, 1, 2, 1, 2, 1, 2, 1, 2])"
      ]
     },
     "execution_count": 45,
     "metadata": {},
     "output_type": "execute_result"
    }
   ],
   "source": [
    "vector = np.arange(0,11,dtype=int) \n",
    "vector[vector%2==0] = 2\n",
    "vector[vector%2==1] = 1\n",
    "vector "
   ]
  }
 ],
 "metadata": {
  "kernelspec": {
   "display_name": "base",
   "language": "python",
   "name": "python3"
  },
  "language_info": {
   "codemirror_mode": {
    "name": "ipython",
    "version": 3
   },
   "file_extension": ".py",
   "mimetype": "text/x-python",
   "name": "python",
   "nbconvert_exporter": "python",
   "pygments_lexer": "ipython3",
   "version": "3.12.7"
  }
 },
 "nbformat": 4,
 "nbformat_minor": 5
}
