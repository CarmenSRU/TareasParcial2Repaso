{
 "cells": [
  {
   "cell_type": "markdown",
   "id": "69aa9117",
   "metadata": {},
   "source": [
    "### Taller pre-parcial"
   ]
  },
  {
   "cell_type": "markdown",
   "id": "441f6c04",
   "metadata": {},
   "source": [
    "#### 1. Crear una matriz de Numpy aleatoria de 4 dimensiones y un size de 1200000 "
   ]
  },
  {
   "cell_type": "code",
   "execution_count": 1,
   "id": "8a1ad24a",
   "metadata": {},
   "outputs": [],
   "source": [
    "import numpy as np\n",
    "import matplotlib.pyplot as plt\n",
    "import pandas as pd"
   ]
  },
  {
   "cell_type": "code",
   "execution_count": 11,
   "id": "feff7af5",
   "metadata": {},
   "outputs": [
    {
     "name": "stdout",
     "output_type": "stream",
     "text": [
      "1200000\n",
      "(10, 10, 30, 400)\n"
     ]
    }
   ],
   "source": [
    "matriz = np.random.random((10,10,30,400))\n",
    "print(matriz.size)\n",
    "print(matriz.shape)"
   ]
  }
 ],
 "metadata": {
  "kernelspec": {
   "display_name": "base",
   "language": "python",
   "name": "python3"
  },
  "language_info": {
   "codemirror_mode": {
    "name": "ipython",
    "version": 3
   },
   "file_extension": ".py",
   "mimetype": "text/x-python",
   "name": "python",
   "nbconvert_exporter": "python",
   "pygments_lexer": "ipython3",
   "version": "3.12.7"
  }
 },
 "nbformat": 4,
 "nbformat_minor": 5
}
