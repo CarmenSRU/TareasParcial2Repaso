{
 "cells": [
  {
   "cell_type": "markdown",
   "id": "69aa9117",
   "metadata": {},
   "source": [
    "### Taller pre-parcial"
   ]
  },
  {
   "cell_type": "markdown",
   "id": "441f6c04",
   "metadata": {},
   "source": [
    "#### 1. Crear una matriz de Numpy aleatoria de 4 dimensiones y un size de 1200000 "
   ]
  },
  {
   "cell_type": "code",
   "execution_count": 22,
   "id": "8a1ad24a",
   "metadata": {},
   "outputs": [],
   "source": [
    "import numpy as np\n",
    "import matplotlib.pyplot as plt\n",
    "import pandas as pd\n",
    "import scipy.io as sio"
   ]
  },
  {
   "cell_type": "code",
   "execution_count": 3,
   "id": "feff7af5",
   "metadata": {},
   "outputs": [
    {
     "name": "stdout",
     "output_type": "stream",
     "text": [
      "1200000\n",
      "(10, 10, 30, 400)\n"
     ]
    }
   ],
   "source": [
    "matriz = np.random.random((10,10,30,400))\n",
    "print(matriz.size)\n",
    "print(matriz.shape)"
   ]
  },
  {
   "cell_type": "markdown",
   "id": "0dbaaed6",
   "metadata": {},
   "source": [
    "#### 2. Crea una copia de la matriz creada en el ítem anterior (usar método copy) de solo 3 dimensiones (“Cortando una de las dimensiones”)"
   ]
  },
  {
   "cell_type": "code",
   "execution_count": 12,
   "id": "21ecc3be",
   "metadata": {},
   "outputs": [
    {
     "name": "stdout",
     "output_type": "stream",
     "text": [
      "(10, 10, 30)\n"
     ]
    }
   ],
   "source": [
    "matrizCopia = matriz[:,:,:,0].copy()\n",
    "print(matrizCopia.shape)"
   ]
  },
  {
   "cell_type": "markdown",
   "id": "cb266449",
   "metadata": {},
   "source": [
    "#### 3. De la matriz 3D, muestra todos los atributos propios de dicha matriz , dimensión, tamaño, etc"
   ]
  },
  {
   "cell_type": "code",
   "execution_count": 14,
   "id": "97293332",
   "metadata": {},
   "outputs": [
    {
     "name": "stdout",
     "output_type": "stream",
     "text": [
      "Dimensiones: 3\n",
      "Forma: (10, 10, 30)\n",
      "Tamaño: 3000\n",
      "Tipo de dato: float64\n",
      "Tamaño de cada elemento (bytes): 8\n",
      "Tamaño total (bytes): 24000\n"
     ]
    }
   ],
   "source": [
    "print(f\"Dimensiones: {matrizCopia.ndim}\")\n",
    "print(f\"Forma: {matrizCopia.shape}\")\n",
    "print(f\"Tamaño: {matrizCopia.size}\")\n",
    "print(f\"Tipo de dato: {matrizCopia.dtype}\")\n",
    "print(f\"Tamaño de cada elemento (bytes): {matrizCopia.itemsize}\")\n",
    "print(f\"Tamaño total (bytes): {matrizCopia.nbytes}\")\n"
   ]
  },
  {
   "cell_type": "markdown",
   "id": "bf50cf85",
   "metadata": {},
   "source": [
    "#### 4. Modificar su forma y pasarla a 2D"
   ]
  },
  {
   "cell_type": "code",
   "execution_count": 19,
   "id": "bfe080dc",
   "metadata": {},
   "outputs": [
    {
     "name": "stdout",
     "output_type": "stream",
     "text": [
      "(10, 30, 10)\n",
      "(10, 30)\n"
     ]
    }
   ],
   "source": [
    "matriz2 = np.reshape(matrizCopia,(10,30,10))\n",
    "print(matriz2.shape)\n",
    "matriz2 = matriz2[:,:,0].copy()\n",
    "print(matriz2.shape)"
   ]
  },
  {
   "cell_type": "markdown",
   "id": "4abebd7a",
   "metadata": {},
   "source": [
    "#### 5. Crea una función que reciba la matriz anterior y la pase a un objeto tipo dataframe de Pandas"
   ]
  },
  {
   "cell_type": "code",
   "execution_count": 21,
   "id": "1779152f",
   "metadata": {},
   "outputs": [],
   "source": [
    "def dataframeador(matriz):\n",
    "    return pd.Dataframe(matriz)"
   ]
  },
  {
   "cell_type": "markdown",
   "id": "0502e488",
   "metadata": {},
   "source": [
    "#### 6. Crear una función que permita cargar un archivo .mat y .csv"
   ]
  },
  {
   "cell_type": "code",
   "execution_count": null,
   "id": "0861c489",
   "metadata": {},
   "outputs": [],
   "source": [
    "def cargar(ruta):\n",
    "    if ruta.endswith(\"csv\"):\n",
    "        return pd.read_csv(ruta)\n",
    "    elif ruta.endswith(\"mat\"):\n",
    "        return sio.loadmat(ruta)"
   ]
  }
 ],
 "metadata": {
  "kernelspec": {
   "display_name": "base",
   "language": "python",
   "name": "python3"
  },
  "language_info": {
   "codemirror_mode": {
    "name": "ipython",
    "version": 3
   },
   "file_extension": ".py",
   "mimetype": "text/x-python",
   "name": "python",
   "nbconvert_exporter": "python",
   "pygments_lexer": "ipython3",
   "version": "3.12.7"
  }
 },
 "nbformat": 4,
 "nbformat_minor": 5
}
