{
 "cells": [
  {
   "cell_type": "markdown",
   "id": "69aa9117",
   "metadata": {},
   "source": [
    "### Taller pre-parcial"
   ]
  },
  {
   "cell_type": "markdown",
   "id": "441f6c04",
   "metadata": {},
   "source": [
    "#### 1. Crear una matriz de Numpy aleatoria de 4 dimensiones y un size de 1200000 "
   ]
  },
  {
   "cell_type": "code",
   "execution_count": 22,
   "id": "8a1ad24a",
   "metadata": {},
   "outputs": [],
   "source": [
    "import numpy as np\n",
    "import matplotlib.pyplot as plt\n",
    "import pandas as pd\n",
    "import scipy.io as sio"
   ]
  },
  {
   "cell_type": "code",
   "execution_count": 3,
   "id": "feff7af5",
   "metadata": {},
   "outputs": [
    {
     "name": "stdout",
     "output_type": "stream",
     "text": [
      "1200000\n",
      "(10, 10, 30, 400)\n"
     ]
    }
   ],
   "source": [
    "matriz = np.random.random((10,10,30,400))\n",
    "print(matriz.size)\n",
    "print(matriz.shape)"
   ]
  },
  {
   "cell_type": "markdown",
   "id": "0dbaaed6",
   "metadata": {},
   "source": [
    "#### 2. Crea una copia de la matriz creada en el ítem anterior (usar método copy) de solo 3 dimensiones (“Cortando una de las dimensiones”)"
   ]
  },
  {
   "cell_type": "code",
   "execution_count": 12,
   "id": "21ecc3be",
   "metadata": {},
   "outputs": [
    {
     "name": "stdout",
     "output_type": "stream",
     "text": [
      "(10, 10, 30)\n"
     ]
    }
   ],
   "source": [
    "matrizCopia = matriz[:,:,:,0].copy()\n",
    "print(matrizCopia.shape)"
   ]
  },
  {
   "cell_type": "markdown",
   "id": "cb266449",
   "metadata": {},
   "source": [
    "#### 3. De la matriz 3D, muestra todos los atributos propios de dicha matriz , dimensión, tamaño, etc"
   ]
  },
  {
   "cell_type": "code",
   "execution_count": 14,
   "id": "97293332",
   "metadata": {},
   "outputs": [
    {
     "name": "stdout",
     "output_type": "stream",
     "text": [
      "Dimensiones: 3\n",
      "Forma: (10, 10, 30)\n",
      "Tamaño: 3000\n",
      "Tipo de dato: float64\n",
      "Tamaño de cada elemento (bytes): 8\n",
      "Tamaño total (bytes): 24000\n"
     ]
    }
   ],
   "source": [
    "print(f\"Dimensiones: {matrizCopia.ndim}\")\n",
    "print(f\"Forma: {matrizCopia.shape}\")\n",
    "print(f\"Tamaño: {matrizCopia.size}\")\n",
    "print(f\"Tipo de dato: {matrizCopia.dtype}\")\n",
    "print(f\"Tamaño de cada elemento (bytes): {matrizCopia.itemsize}\")\n",
    "print(f\"Tamaño total (bytes): {matrizCopia.nbytes}\")\n"
   ]
  },
  {
   "cell_type": "markdown",
   "id": "bf50cf85",
   "metadata": {},
   "source": [
    "#### 4. Modificar su forma y pasarla a 2D"
   ]
  },
  {
   "cell_type": "code",
   "execution_count": 19,
   "id": "bfe080dc",
   "metadata": {},
   "outputs": [
    {
     "name": "stdout",
     "output_type": "stream",
     "text": [
      "(10, 30, 10)\n",
      "(10, 30)\n"
     ]
    }
   ],
   "source": [
    "matriz2 = np.reshape(matrizCopia,(10,30,10))\n",
    "print(matriz2.shape)\n",
    "matriz2 = matriz2[:,:,0].copy()\n",
    "print(matriz2.shape)"
   ]
  },
  {
   "cell_type": "markdown",
   "id": "4abebd7a",
   "metadata": {},
   "source": [
    "#### 5. Crea una función que reciba la matriz anterior y la pase a un objeto tipo dataframe de Pandas"
   ]
  },
  {
   "cell_type": "code",
   "execution_count": 21,
   "id": "1779152f",
   "metadata": {},
   "outputs": [],
   "source": [
    "def dataframeador(matriz):\n",
    "    return pd.Dataframe(matriz)"
   ]
  },
  {
   "cell_type": "markdown",
   "id": "0502e488",
   "metadata": {},
   "source": [
    "#### 6. Crear una función que permita cargar un archivo .mat y .csv"
   ]
  },
  {
   "cell_type": "code",
   "execution_count": 25,
   "id": "0861c489",
   "metadata": {},
   "outputs": [],
   "source": [
    "def cargar(ruta):\n",
    "    if ruta.endswith(\"csv\"):\n",
    "        return pd.read_csv(ruta)\n",
    "    elif ruta.endswith(\"mat\"):\n",
    "        return sio.loadmat(ruta)"
   ]
  },
  {
   "cell_type": "markdown",
   "id": "e837dc0a",
   "metadata": {},
   "source": [
    "#### 7. Crear funciones de suma, resta, multiplicación, división, logaritmo ,promedio, desviación estándar NOTA: Estas funciones deben permitir hacer estos procesos a lo largo de un eje (usando Numpy) "
   ]
  },
  {
   "cell_type": "code",
   "execution_count": 26,
   "id": "958632b8",
   "metadata": {},
   "outputs": [],
   "source": [
    "def suma(datos):\n",
    "    return np.sum(datos)\n",
    "\n",
    "def resta(dato1, dato2):\n",
    "    return np.subtract(dato1, dato2)\n",
    "\n",
    "def multiplicacion(datos):\n",
    "    return np.prod(datos)\n",
    "\n",
    "def division(dato1, dato2):\n",
    "    return np.divide(dato1, dato2)\n",
    "\n",
    "def logaritmo(datos, base=np.e):\n",
    "    return np.log(datos) / np.log(base)\n",
    "\n",
    "def promedio(datos):\n",
    "    return np.mean(datos)\n",
    "\n",
    "def desviacion_estandar(datos):\n",
    "    return np.std(datos)"
   ]
  },
  {
   "cell_type": "markdown",
   "id": "df8bfa22",
   "metadata": {},
   "source": [
    "#### 8. Buscar en Kaggle un archivo .csv relacionadas con alguna patología, descargar y hacer funciones como las propuestas en el ítem anterior, pero implementándolas usando Pandas y que permitan tambien elegir columnas."
   ]
  },
  {
   "cell_type": "code",
   "execution_count": null,
   "id": "51cf28d6",
   "metadata": {},
   "outputs": [
    {
     "name": "stderr",
     "output_type": "stream",
     "text": [
      "C:\\Users\\budgi\\AppData\\Local\\Temp\\ipykernel_2180\\1932786986.py:15: FutureWarning: DataFrame.applymap has been deprecated. Use DataFrame.map instead.\n",
      "  return df.applymap(lambda x: np.log(x) / np.log(base) if x > 0 else None)\n"
     ]
    },
    {
     "ename": "TypeError",
     "evalue": "'>' not supported between instances of 'str' and 'int'",
     "output_type": "error",
     "traceback": [
      "\u001b[1;31m---------------------------------------------------------------------------\u001b[0m",
      "\u001b[1;31mTypeError\u001b[0m                                 Traceback (most recent call last)",
      "Cell \u001b[1;32mIn[41], line 28\u001b[0m\n\u001b[0;32m     26\u001b[0m suma(df,columna)\n\u001b[0;32m     27\u001b[0m resta(df,c1,c2)\n\u001b[1;32m---> 28\u001b[0m logaritmo(df,c1)\n",
      "Cell \u001b[1;32mIn[41], line 15\u001b[0m, in \u001b[0;36mlogaritmo\u001b[1;34m(datos, col, base)\u001b[0m\n\u001b[0;32m     14\u001b[0m \u001b[38;5;28;01mdef\u001b[39;00m \u001b[38;5;21mlogaritmo\u001b[39m(datos, col, base\u001b[38;5;241m=\u001b[39m\u001b[38;5;241m10\u001b[39m):\n\u001b[1;32m---> 15\u001b[0m     \u001b[38;5;28;01mreturn\u001b[39;00m df\u001b[38;5;241m.\u001b[39mapplymap(\u001b[38;5;28;01mlambda\u001b[39;00m x: np\u001b[38;5;241m.\u001b[39mlog(x) \u001b[38;5;241m/\u001b[39m np\u001b[38;5;241m.\u001b[39mlog(base) \u001b[38;5;28;01mif\u001b[39;00m x \u001b[38;5;241m>\u001b[39m \u001b[38;5;241m0\u001b[39m \u001b[38;5;28;01melse\u001b[39;00m \u001b[38;5;28;01mNone\u001b[39;00m)\n",
      "File \u001b[1;32mc:\\Users\\budgi\\anaconda3\\Lib\\site-packages\\pandas\\core\\frame.py:10522\u001b[0m, in \u001b[0;36mDataFrame.applymap\u001b[1;34m(self, func, na_action, **kwargs)\u001b[0m\n\u001b[0;32m  10473\u001b[0m \u001b[38;5;250m\u001b[39m\u001b[38;5;124;03m\"\"\"\u001b[39;00m\n\u001b[0;32m  10474\u001b[0m \u001b[38;5;124;03mApply a function to a Dataframe elementwise.\u001b[39;00m\n\u001b[0;32m  10475\u001b[0m \n\u001b[1;32m   (...)\u001b[0m\n\u001b[0;32m  10515\u001b[0m \u001b[38;5;124;03m1  5  5\u001b[39;00m\n\u001b[0;32m  10516\u001b[0m \u001b[38;5;124;03m\"\"\"\u001b[39;00m\n\u001b[0;32m  10517\u001b[0m warnings\u001b[38;5;241m.\u001b[39mwarn(\n\u001b[0;32m  10518\u001b[0m     \u001b[38;5;124m\"\u001b[39m\u001b[38;5;124mDataFrame.applymap has been deprecated. Use DataFrame.map instead.\u001b[39m\u001b[38;5;124m\"\u001b[39m,\n\u001b[0;32m  10519\u001b[0m     \u001b[38;5;167;01mFutureWarning\u001b[39;00m,\n\u001b[0;32m  10520\u001b[0m     stacklevel\u001b[38;5;241m=\u001b[39mfind_stack_level(),\n\u001b[0;32m  10521\u001b[0m )\n\u001b[1;32m> 10522\u001b[0m \u001b[38;5;28;01mreturn\u001b[39;00m \u001b[38;5;28mself\u001b[39m\u001b[38;5;241m.\u001b[39mmap(func, na_action\u001b[38;5;241m=\u001b[39mna_action, \u001b[38;5;241m*\u001b[39m\u001b[38;5;241m*\u001b[39mkwargs)\n",
      "File \u001b[1;32mc:\\Users\\budgi\\anaconda3\\Lib\\site-packages\\pandas\\core\\frame.py:10468\u001b[0m, in \u001b[0;36mDataFrame.map\u001b[1;34m(self, func, na_action, **kwargs)\u001b[0m\n\u001b[0;32m  10465\u001b[0m \u001b[38;5;28;01mdef\u001b[39;00m \u001b[38;5;21minfer\u001b[39m(x):\n\u001b[0;32m  10466\u001b[0m     \u001b[38;5;28;01mreturn\u001b[39;00m x\u001b[38;5;241m.\u001b[39m_map_values(func, na_action\u001b[38;5;241m=\u001b[39mna_action)\n\u001b[1;32m> 10468\u001b[0m \u001b[38;5;28;01mreturn\u001b[39;00m \u001b[38;5;28mself\u001b[39m\u001b[38;5;241m.\u001b[39mapply(infer)\u001b[38;5;241m.\u001b[39m__finalize__(\u001b[38;5;28mself\u001b[39m, \u001b[38;5;124m\"\u001b[39m\u001b[38;5;124mmap\u001b[39m\u001b[38;5;124m\"\u001b[39m)\n",
      "File \u001b[1;32mc:\\Users\\budgi\\anaconda3\\Lib\\site-packages\\pandas\\core\\frame.py:10374\u001b[0m, in \u001b[0;36mDataFrame.apply\u001b[1;34m(self, func, axis, raw, result_type, args, by_row, engine, engine_kwargs, **kwargs)\u001b[0m\n\u001b[0;32m  10360\u001b[0m \u001b[38;5;28;01mfrom\u001b[39;00m \u001b[38;5;21;01mpandas\u001b[39;00m\u001b[38;5;21;01m.\u001b[39;00m\u001b[38;5;21;01mcore\u001b[39;00m\u001b[38;5;21;01m.\u001b[39;00m\u001b[38;5;21;01mapply\u001b[39;00m \u001b[38;5;28;01mimport\u001b[39;00m frame_apply\n\u001b[0;32m  10362\u001b[0m op \u001b[38;5;241m=\u001b[39m frame_apply(\n\u001b[0;32m  10363\u001b[0m     \u001b[38;5;28mself\u001b[39m,\n\u001b[0;32m  10364\u001b[0m     func\u001b[38;5;241m=\u001b[39mfunc,\n\u001b[1;32m   (...)\u001b[0m\n\u001b[0;32m  10372\u001b[0m     kwargs\u001b[38;5;241m=\u001b[39mkwargs,\n\u001b[0;32m  10373\u001b[0m )\n\u001b[1;32m> 10374\u001b[0m \u001b[38;5;28;01mreturn\u001b[39;00m op\u001b[38;5;241m.\u001b[39mapply()\u001b[38;5;241m.\u001b[39m__finalize__(\u001b[38;5;28mself\u001b[39m, method\u001b[38;5;241m=\u001b[39m\u001b[38;5;124m\"\u001b[39m\u001b[38;5;124mapply\u001b[39m\u001b[38;5;124m\"\u001b[39m)\n",
      "File \u001b[1;32mc:\\Users\\budgi\\anaconda3\\Lib\\site-packages\\pandas\\core\\apply.py:916\u001b[0m, in \u001b[0;36mFrameApply.apply\u001b[1;34m(self)\u001b[0m\n\u001b[0;32m    913\u001b[0m \u001b[38;5;28;01melif\u001b[39;00m \u001b[38;5;28mself\u001b[39m\u001b[38;5;241m.\u001b[39mraw:\n\u001b[0;32m    914\u001b[0m     \u001b[38;5;28;01mreturn\u001b[39;00m \u001b[38;5;28mself\u001b[39m\u001b[38;5;241m.\u001b[39mapply_raw(engine\u001b[38;5;241m=\u001b[39m\u001b[38;5;28mself\u001b[39m\u001b[38;5;241m.\u001b[39mengine, engine_kwargs\u001b[38;5;241m=\u001b[39m\u001b[38;5;28mself\u001b[39m\u001b[38;5;241m.\u001b[39mengine_kwargs)\n\u001b[1;32m--> 916\u001b[0m \u001b[38;5;28;01mreturn\u001b[39;00m \u001b[38;5;28mself\u001b[39m\u001b[38;5;241m.\u001b[39mapply_standard()\n",
      "File \u001b[1;32mc:\\Users\\budgi\\anaconda3\\Lib\\site-packages\\pandas\\core\\apply.py:1063\u001b[0m, in \u001b[0;36mFrameApply.apply_standard\u001b[1;34m(self)\u001b[0m\n\u001b[0;32m   1061\u001b[0m \u001b[38;5;28;01mdef\u001b[39;00m \u001b[38;5;21mapply_standard\u001b[39m(\u001b[38;5;28mself\u001b[39m):\n\u001b[0;32m   1062\u001b[0m     \u001b[38;5;28;01mif\u001b[39;00m \u001b[38;5;28mself\u001b[39m\u001b[38;5;241m.\u001b[39mengine \u001b[38;5;241m==\u001b[39m \u001b[38;5;124m\"\u001b[39m\u001b[38;5;124mpython\u001b[39m\u001b[38;5;124m\"\u001b[39m:\n\u001b[1;32m-> 1063\u001b[0m         results, res_index \u001b[38;5;241m=\u001b[39m \u001b[38;5;28mself\u001b[39m\u001b[38;5;241m.\u001b[39mapply_series_generator()\n\u001b[0;32m   1064\u001b[0m     \u001b[38;5;28;01melse\u001b[39;00m:\n\u001b[0;32m   1065\u001b[0m         results, res_index \u001b[38;5;241m=\u001b[39m \u001b[38;5;28mself\u001b[39m\u001b[38;5;241m.\u001b[39mapply_series_numba()\n",
      "File \u001b[1;32mc:\\Users\\budgi\\anaconda3\\Lib\\site-packages\\pandas\\core\\apply.py:1081\u001b[0m, in \u001b[0;36mFrameApply.apply_series_generator\u001b[1;34m(self)\u001b[0m\n\u001b[0;32m   1078\u001b[0m \u001b[38;5;28;01mwith\u001b[39;00m option_context(\u001b[38;5;124m\"\u001b[39m\u001b[38;5;124mmode.chained_assignment\u001b[39m\u001b[38;5;124m\"\u001b[39m, \u001b[38;5;28;01mNone\u001b[39;00m):\n\u001b[0;32m   1079\u001b[0m     \u001b[38;5;28;01mfor\u001b[39;00m i, v \u001b[38;5;129;01min\u001b[39;00m \u001b[38;5;28menumerate\u001b[39m(series_gen):\n\u001b[0;32m   1080\u001b[0m         \u001b[38;5;66;03m# ignore SettingWithCopy here in case the user mutates\u001b[39;00m\n\u001b[1;32m-> 1081\u001b[0m         results[i] \u001b[38;5;241m=\u001b[39m \u001b[38;5;28mself\u001b[39m\u001b[38;5;241m.\u001b[39mfunc(v, \u001b[38;5;241m*\u001b[39m\u001b[38;5;28mself\u001b[39m\u001b[38;5;241m.\u001b[39margs, \u001b[38;5;241m*\u001b[39m\u001b[38;5;241m*\u001b[39m\u001b[38;5;28mself\u001b[39m\u001b[38;5;241m.\u001b[39mkwargs)\n\u001b[0;32m   1082\u001b[0m         \u001b[38;5;28;01mif\u001b[39;00m \u001b[38;5;28misinstance\u001b[39m(results[i], ABCSeries):\n\u001b[0;32m   1083\u001b[0m             \u001b[38;5;66;03m# If we have a view on v, we need to make a copy because\u001b[39;00m\n\u001b[0;32m   1084\u001b[0m             \u001b[38;5;66;03m#  series_generator will swap out the underlying data\u001b[39;00m\n\u001b[0;32m   1085\u001b[0m             results[i] \u001b[38;5;241m=\u001b[39m results[i]\u001b[38;5;241m.\u001b[39mcopy(deep\u001b[38;5;241m=\u001b[39m\u001b[38;5;28;01mFalse\u001b[39;00m)\n",
      "File \u001b[1;32mc:\\Users\\budgi\\anaconda3\\Lib\\site-packages\\pandas\\core\\frame.py:10466\u001b[0m, in \u001b[0;36mDataFrame.map.<locals>.infer\u001b[1;34m(x)\u001b[0m\n\u001b[0;32m  10465\u001b[0m \u001b[38;5;28;01mdef\u001b[39;00m \u001b[38;5;21minfer\u001b[39m(x):\n\u001b[1;32m> 10466\u001b[0m     \u001b[38;5;28;01mreturn\u001b[39;00m x\u001b[38;5;241m.\u001b[39m_map_values(func, na_action\u001b[38;5;241m=\u001b[39mna_action)\n",
      "File \u001b[1;32mc:\\Users\\budgi\\anaconda3\\Lib\\site-packages\\pandas\\core\\base.py:921\u001b[0m, in \u001b[0;36mIndexOpsMixin._map_values\u001b[1;34m(self, mapper, na_action, convert)\u001b[0m\n\u001b[0;32m    918\u001b[0m \u001b[38;5;28;01mif\u001b[39;00m \u001b[38;5;28misinstance\u001b[39m(arr, ExtensionArray):\n\u001b[0;32m    919\u001b[0m     \u001b[38;5;28;01mreturn\u001b[39;00m arr\u001b[38;5;241m.\u001b[39mmap(mapper, na_action\u001b[38;5;241m=\u001b[39mna_action)\n\u001b[1;32m--> 921\u001b[0m \u001b[38;5;28;01mreturn\u001b[39;00m algorithms\u001b[38;5;241m.\u001b[39mmap_array(arr, mapper, na_action\u001b[38;5;241m=\u001b[39mna_action, convert\u001b[38;5;241m=\u001b[39mconvert)\n",
      "File \u001b[1;32mc:\\Users\\budgi\\anaconda3\\Lib\\site-packages\\pandas\\core\\algorithms.py:1743\u001b[0m, in \u001b[0;36mmap_array\u001b[1;34m(arr, mapper, na_action, convert)\u001b[0m\n\u001b[0;32m   1741\u001b[0m values \u001b[38;5;241m=\u001b[39m arr\u001b[38;5;241m.\u001b[39mastype(\u001b[38;5;28mobject\u001b[39m, copy\u001b[38;5;241m=\u001b[39m\u001b[38;5;28;01mFalse\u001b[39;00m)\n\u001b[0;32m   1742\u001b[0m \u001b[38;5;28;01mif\u001b[39;00m na_action \u001b[38;5;129;01mis\u001b[39;00m \u001b[38;5;28;01mNone\u001b[39;00m:\n\u001b[1;32m-> 1743\u001b[0m     \u001b[38;5;28;01mreturn\u001b[39;00m lib\u001b[38;5;241m.\u001b[39mmap_infer(values, mapper, convert\u001b[38;5;241m=\u001b[39mconvert)\n\u001b[0;32m   1744\u001b[0m \u001b[38;5;28;01melse\u001b[39;00m:\n\u001b[0;32m   1745\u001b[0m     \u001b[38;5;28;01mreturn\u001b[39;00m lib\u001b[38;5;241m.\u001b[39mmap_infer_mask(\n\u001b[0;32m   1746\u001b[0m         values, mapper, mask\u001b[38;5;241m=\u001b[39misna(values)\u001b[38;5;241m.\u001b[39mview(np\u001b[38;5;241m.\u001b[39muint8), convert\u001b[38;5;241m=\u001b[39mconvert\n\u001b[0;32m   1747\u001b[0m     )\n",
      "File \u001b[1;32mlib.pyx:2972\u001b[0m, in \u001b[0;36mpandas._libs.lib.map_infer\u001b[1;34m()\u001b[0m\n",
      "Cell \u001b[1;32mIn[41], line 15\u001b[0m, in \u001b[0;36mlogaritmo.<locals>.<lambda>\u001b[1;34m(x)\u001b[0m\n\u001b[0;32m     14\u001b[0m \u001b[38;5;28;01mdef\u001b[39;00m \u001b[38;5;21mlogaritmo\u001b[39m(datos, col, base\u001b[38;5;241m=\u001b[39m\u001b[38;5;241m10\u001b[39m):\n\u001b[1;32m---> 15\u001b[0m     \u001b[38;5;28;01mreturn\u001b[39;00m df\u001b[38;5;241m.\u001b[39mapplymap(\u001b[38;5;28;01mlambda\u001b[39;00m x: np\u001b[38;5;241m.\u001b[39mlog(x) \u001b[38;5;241m/\u001b[39m np\u001b[38;5;241m.\u001b[39mlog(base) \u001b[38;5;28;01mif\u001b[39;00m x \u001b[38;5;241m>\u001b[39m \u001b[38;5;241m0\u001b[39m \u001b[38;5;28;01melse\u001b[39;00m \u001b[38;5;28;01mNone\u001b[39;00m)\n",
      "\u001b[1;31mTypeError\u001b[0m: '>' not supported between instances of 'str' and 'int'"
     ]
    }
   ],
   "source": [
    "df = cargar(\"archive/covid_19_clean_complete.csv\")\n",
    "def suma(datos,columna):\n",
    "    return datos[columna].sum()\n",
    "\n",
    "def resta(datos, c1, c2):\n",
    "    return datos[c1].sum() - datos[c2].sum()\n",
    "\n",
    "# def multiplicacion(datos):\n",
    "#     return np.prod(datos)\n",
    "\n",
    "# def division(dato1, dato2):\n",
    "#     return np.divide(dato1, dato2)\n",
    "\n",
    "# def logaritmo(datos, col, base=10):\n",
    "#     return df.applymap(lambda x: np.log(x) / np.log(base) if x > 0 else None)\n",
    "\n",
    "def promedio(datos, col):\n",
    "    return datos[col].mean()\n",
    "\n",
    "def calcular_desviacion(df, columnas):\n",
    "    return df[columnas].std()\n",
    "\n",
    "\n",
    "def desviacion_estandar(datos):\n",
    "    return np.std(datos)\n",
    "columna = \"Confirmed\"\n",
    "c1 = \"Confirmed\"\n",
    "c2 = \"Deaths\"\n",
    "suma(df,columna)\n",
    "resta(df,c1,c2)\n",
    "# logaritmo(df,c1)"
   ]
  },
  {
   "cell_type": "markdown",
   "id": "c46bf1e5",
   "metadata": {},
   "source": [
    "#### 9. Usar matplotlib para graficar la señal del archivo mat del punto 6 y crear funciones para graficar histogramas, stems, barras, pies "
   ]
  },
  {
   "cell_type": "markdown",
   "id": "eb6002fe",
   "metadata": {},
   "source": [
    "#### 10. Las funciones de graficación deben pedir al usuario los títulos de gráficos y los ejes, activar leyendas , activar la cuadricula.\n"
   ]
  },
  {
   "cell_type": "markdown",
   "id": "67d36107",
   "metadata": {},
   "source": [
    "#### 11. Para la graficación permitir al usuario elegir entre un diseño de 3 subplots (vertical, horizontal o en diagonal), es decir de una columna varias filas o viceversa."
   ]
  }
 ],
 "metadata": {
  "kernelspec": {
   "display_name": "base",
   "language": "python",
   "name": "python3"
  },
  "language_info": {
   "codemirror_mode": {
    "name": "ipython",
    "version": 3
   },
   "file_extension": ".py",
   "mimetype": "text/x-python",
   "name": "python",
   "nbconvert_exporter": "python",
   "pygments_lexer": "ipython3",
   "version": "3.12.7"
  }
 },
 "nbformat": 4,
 "nbformat_minor": 5
}
