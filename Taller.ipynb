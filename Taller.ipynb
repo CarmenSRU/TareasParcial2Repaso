{
 "cells": [
  {
   "cell_type": "markdown",
   "id": "69aa9117",
   "metadata": {},
   "source": [
    "### Taller pre-parcial"
   ]
  },
  {
   "cell_type": "markdown",
   "id": "441f6c04",
   "metadata": {},
   "source": [
    "#### 1. Crear una matriz de Numpy aleatoria de 4 dimensiones y un size de 1200000 "
   ]
  },
  {
   "cell_type": "code",
   "execution_count": null,
   "id": "8a1ad24a",
   "metadata": {},
   "outputs": [],
   "source": [
    "import numpy as np\n",
    "import matplotlib.pyplot as plt\n",
    "import pandas as pd"
   ]
  },
  {
   "cell_type": "code",
   "execution_count": null,
   "id": "feff7af5",
   "metadata": {},
   "outputs": [],
   "source": []
  }
 ],
 "metadata": {
  "kernelspec": {
   "display_name": "base",
   "language": "python",
   "name": "python3"
  },
  "language_info": {
   "name": "python",
   "version": "3.12.7"
  }
 },
 "nbformat": 4,
 "nbformat_minor": 5
}
